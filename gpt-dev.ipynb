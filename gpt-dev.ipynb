{
 "cells": [
  {
   "cell_type": "markdown",
   "metadata": {},
   "source": [
    "# Getting Data from Internet"
   ]
  },
  {
   "cell_type": "code",
   "execution_count": 40,
   "metadata": {},
   "outputs": [
    {
     "name": "stderr",
     "output_type": "stream",
     "text": [
      "4396.39s - pydevd: Sending message related to process being replaced timed-out after 5 seconds\n"
     ]
    },
    {
     "name": "stdout",
     "output_type": "stream",
     "text": [
      "--2024-02-27 17:22:07--  https://raw.githubusercontent.com/karpathy/char-rnn/master/data/tinyshakespeare/input.txt\n",
      "正在解析主机 raw.githubusercontent.com (raw.githubusercontent.com)... 185.199.110.133, 185.199.109.133, 185.199.111.133, ...\n",
      "正在连接 raw.githubusercontent.com (raw.githubusercontent.com)|185.199.110.133|:443... 已连接。\n",
      "已发出 HTTP 请求，正在等待回应... 200 OK\n",
      "长度：1115394 (1.1M) [text/plain]\n",
      "正在保存至: “input.txt.1”\n",
      "\n",
      "input.txt.1         100%[===================>]   1.06M  4.35MB/s  用时 0.2s      \n",
      "\n",
      "2024-02-27 17:22:08 (4.35 MB/s) - 已保存 “input.txt.1” [1115394/1115394])\n",
      "\n"
     ]
    }
   ],
   "source": [
    "# We always start with a dataset to train on. Let's download the tiny shakespeare dataset\n",
    "!wget https://raw.githubusercontent.com/karpathy/char-rnn/master/data/tinyshakespeare/input.txt"
   ]
  },
  {
   "cell_type": "code",
   "execution_count": 41,
   "metadata": {},
   "outputs": [],
   "source": [
    "# read it and inspect it\n",
    "with open('input.txt', 'r', encoding='utf-8') as f:\n",
    "    text = f.read()"
   ]
  },
  {
   "cell_type": "code",
   "execution_count": 42,
   "metadata": {},
   "outputs": [
    {
     "name": "stdout",
     "output_type": "stream",
     "text": [
      "length of the dataset in characters:  1115394\n"
     ]
    }
   ],
   "source": [
    "print(\"length of the dataset in characters: \", len(text))"
   ]
  },
  {
   "cell_type": "code",
   "execution_count": 43,
   "metadata": {},
   "outputs": [
    {
     "name": "stdout",
     "output_type": "stream",
     "text": [
      "First Citizen:\n",
      "Before we proceed any further, hear me speak.\n",
      "\n",
      "All:\n",
      "Speak, speak.\n",
      "\n",
      "First Citizen:\n",
      "You are all resolved rather to die than to famish?\n",
      "\n",
      "All:\n",
      "Resolved. resolved.\n",
      "\n",
      "First Citizen:\n",
      "First, you know Caius Marcius is chief enemy to the people.\n",
      "\n",
      "All:\n",
      "We know't, we know't.\n",
      "\n",
      "First Citizen:\n",
      "Let us kill him, and we'll have corn at our own price.\n",
      "Is't a verdict?\n",
      "\n",
      "All:\n",
      "No more talking on't; let it be done: away, away!\n",
      "\n",
      "Second Citizen:\n",
      "One word, good citizens.\n",
      "\n",
      "First Citizen:\n",
      "We are accounted poor citizens, the patricians good.\n",
      "What authority surfeits on would relieve us: if they\n",
      "would yield us but the superfluity, while it were\n",
      "wholesome, we might guess they relieved us humanely;\n",
      "but they think we are too dear: the leanness that\n",
      "afflicts us, the object of our misery, is as an\n",
      "inventory to particularise their abundance; our\n",
      "sufferance is a gain to them Let us revenge this with\n",
      "our pikes, ere we become rakes: for the gods know I\n",
      "speak this in hunger for bread, not in thirst for revenge.\n",
      "\n",
      "\n"
     ]
    }
   ],
   "source": [
    "print(text[:1000])"
   ]
  },
  {
   "cell_type": "markdown",
   "metadata": {},
   "source": [
    "To see individual character of the whole text"
   ]
  },
  {
   "cell_type": "code",
   "execution_count": 44,
   "metadata": {},
   "outputs": [
    {
     "name": "stdout",
     "output_type": "stream",
     "text": [
      "\n",
      " !$&',-.3:;?ABCDEFGHIJKLMNOPQRSTUVWXYZabcdefghijklmnopqrstuvwxyz\n",
      "65\n"
     ]
    }
   ],
   "source": [
    "chars = sorted(list(set(text)))\n",
    "vocab_size = len(chars)\n",
    "print(''.join(chars))\n",
    "print(vocab_size)"
   ]
  },
  {
   "cell_type": "markdown",
   "metadata": {},
   "source": [
    "# Encoder and Decoder\n",
    "\n",
    "## stoi and encoder\n",
    "stoi 是一个字典，它将字符映射到整数。字典的名称 stoi 是 \"string to integer\" 的缩写。这个字典是通过字典推导式创建的，字典推导式的输入是 enumerate(chars) 的结果。enumerate(chars) 会为 chars 列表中的每个元素生成一个索引，然后我们将字符作为键，索引作为值，存储在 stoi 字典中。\n",
    "\n",
    "例如，如果 chars 是 ['a', 'b', 'c']，那么 stoi 就会是 {'a': 0, 'b': 1, 'c': 2}。\n",
    "\n",
    "encode 是一个函数，它接受一个字符串 s，并返回一个整数列表。这个函数是通过 lambda 表达式定义的，lambda 表达式是一种创建小型匿名函数的方式。encode 函数的工作方式是，对于输入字符串 s 中的每个字符 c，它都会查找 stoi 字典中 c 对应的值（即 stoi[c]），然后将这些值收集到一个列表中。\n",
    "\n",
    "## itos and decoder\n",
    "itos 是一个字典，它将整数映射到字符。字典的名称 itos 是 \"integer to string\" 的缩写。这个字典是通过字典推导式创建的，字典推导式的输入是 enumerate(chars) 的结果。enumerate(chars) 会为 chars 列表中的每个元素生成一个索引，然后我们将索引作为键，字符作为值，存储在 itos 字典中。\n",
    "\n",
    "例如，如果 chars 是 ['a', 'b', 'c']，那么 itos 就会是 {0: 'a', 1: 'b', 2: 'c'}。\n",
    "\n",
    "decode 是一个函数，它接受一个整数列表 l，并返回一个字符串。这个函数是通过 lambda 表达式定义的，lambda 表达式是一种创建小型匿名函数的方式。decode 函数的工作方式是，对于输入列表 l 中的每个整数 i，它都会查找 itos 字典中 i 对应的值（即 itos[i]），然后将这些值收集到一个字符串中。\n",
    "\n",
    "例如，如果 l 是 [0, 1, 2]，那么 decode(l) 就会是 \"abc\"（假设 itos 是上面的例子中的字典）。\n"
   ]
  },
  {
   "cell_type": "code",
   "execution_count": 45,
   "metadata": {},
   "outputs": [
    {
     "name": "stdout",
     "output_type": "stream",
     "text": [
      "[20, 43, 50, 50, 53, 1, 26, 39, 52, 53, 19, 28, 32]\n",
      "Hello NanoGPT\n"
     ]
    }
   ],
   "source": [
    "stoi = { ch:i for i,ch in enumerate(chars)}\n",
    "itos = { i:ch for i,ch in enumerate(chars)}\n",
    "encode = lambda s: [stoi[c] for c in s]\n",
    "decode = lambda l: ''.join([itos[i] for i in l])\n",
    "\n",
    "print(encode(\"Hello NanoGPT\"))\n",
    "print(decode(encode(\"Hello NanoGPT\")))"
   ]
  },
  {
   "cell_type": "markdown",
   "metadata": {},
   "source": [
    "## 使用 Torch 进行包装"
   ]
  },
  {
   "cell_type": "code",
   "execution_count": 46,
   "metadata": {},
   "outputs": [
    {
     "name": "stdout",
     "output_type": "stream",
     "text": [
      "torch.Size([1115394]) torch.int64\n",
      "tensor([18, 47, 56, 57, 58,  1, 15, 47, 58, 47, 64, 43, 52, 10,  0, 14, 43, 44,\n",
      "        53, 56, 43,  1, 61, 43,  1, 54, 56, 53, 41, 43, 43, 42,  1, 39, 52, 63,\n",
      "         1, 44, 59, 56, 58, 46, 43, 56,  6,  1, 46, 43, 39, 56,  1, 51, 43,  1,\n",
      "        57, 54, 43, 39, 49,  8,  0,  0, 13, 50, 50, 10,  0, 31, 54, 43, 39, 49,\n",
      "         6,  1, 57, 54, 43, 39, 49,  8,  0,  0, 18, 47, 56, 57, 58,  1, 15, 47,\n",
      "        58, 47, 64, 43, 52, 10,  0, 37, 53, 59,  1, 39, 56, 43,  1, 39, 50, 50,\n",
      "         1, 56, 43, 57, 53, 50, 60, 43, 42,  1, 56, 39, 58, 46, 43, 56,  1, 58,\n",
      "        53,  1, 42, 47, 43,  1, 58, 46, 39, 52,  1, 58, 53,  1, 44, 39, 51, 47,\n",
      "        57, 46, 12,  0,  0, 13, 50, 50, 10,  0, 30, 43, 57, 53, 50, 60, 43, 42,\n",
      "         8,  1, 56, 43, 57, 53, 50, 60, 43, 42,  8,  0,  0, 18, 47, 56, 57, 58,\n",
      "         1, 15, 47, 58, 47, 64, 43, 52, 10,  0, 18, 47, 56, 57, 58,  6,  1, 63,\n",
      "        53, 59,  1, 49, 52, 53, 61,  1, 15, 39, 47, 59, 57,  1, 25, 39, 56, 41,\n",
      "        47, 59, 57,  1, 47, 57,  1, 41, 46, 47, 43, 44,  1, 43, 52, 43, 51, 63,\n",
      "         1, 58, 53,  1, 58, 46, 43,  1, 54, 43, 53, 54, 50, 43,  8,  0,  0, 13,\n",
      "        50, 50, 10,  0, 35, 43,  1, 49, 52, 53, 61,  5, 58,  6,  1, 61, 43,  1,\n",
      "        49, 52, 53, 61,  5, 58,  8,  0,  0, 18, 47, 56, 57, 58,  1, 15, 47, 58,\n",
      "        47, 64, 43, 52, 10,  0, 24, 43, 58,  1, 59, 57,  1, 49, 47, 50, 50,  1,\n",
      "        46, 47, 51,  6,  1, 39, 52, 42,  1, 61, 43,  5, 50, 50,  1, 46, 39, 60,\n",
      "        43,  1, 41, 53, 56, 52,  1, 39, 58,  1, 53, 59, 56,  1, 53, 61, 52,  1,\n",
      "        54, 56, 47, 41, 43,  8,  0, 21, 57,  5, 58,  1, 39,  1, 60, 43, 56, 42,\n",
      "        47, 41, 58, 12,  0,  0, 13, 50, 50, 10,  0, 26, 53,  1, 51, 53, 56, 43,\n",
      "         1, 58, 39, 50, 49, 47, 52, 45,  1, 53, 52,  5, 58, 11,  1, 50, 43, 58,\n",
      "         1, 47, 58,  1, 40, 43,  1, 42, 53, 52, 43, 10,  1, 39, 61, 39, 63,  6,\n",
      "         1, 39, 61, 39, 63,  2,  0,  0, 31, 43, 41, 53, 52, 42,  1, 15, 47, 58,\n",
      "        47, 64, 43, 52, 10,  0, 27, 52, 43,  1, 61, 53, 56, 42,  6,  1, 45, 53,\n",
      "        53, 42,  1, 41, 47, 58, 47, 64, 43, 52, 57,  8,  0,  0, 18, 47, 56, 57,\n",
      "        58,  1, 15, 47, 58, 47, 64, 43, 52, 10,  0, 35, 43,  1, 39, 56, 43,  1,\n",
      "        39, 41, 41, 53, 59, 52, 58, 43, 42,  1, 54, 53, 53, 56,  1, 41, 47, 58,\n",
      "        47, 64, 43, 52, 57,  6,  1, 58, 46, 43,  1, 54, 39, 58, 56, 47, 41, 47,\n",
      "        39, 52, 57,  1, 45, 53, 53, 42,  8,  0, 35, 46, 39, 58,  1, 39, 59, 58,\n",
      "        46, 53, 56, 47, 58, 63,  1, 57, 59, 56, 44, 43, 47, 58, 57,  1, 53, 52,\n",
      "         1, 61, 53, 59, 50, 42,  1, 56, 43, 50, 47, 43, 60, 43,  1, 59, 57, 10,\n",
      "         1, 47, 44,  1, 58, 46, 43, 63,  0, 61, 53, 59, 50, 42,  1, 63, 47, 43,\n",
      "        50, 42,  1, 59, 57,  1, 40, 59, 58,  1, 58, 46, 43,  1, 57, 59, 54, 43,\n",
      "        56, 44, 50, 59, 47, 58, 63,  6,  1, 61, 46, 47, 50, 43,  1, 47, 58,  1,\n",
      "        61, 43, 56, 43,  0, 61, 46, 53, 50, 43, 57, 53, 51, 43,  6,  1, 61, 43,\n",
      "         1, 51, 47, 45, 46, 58,  1, 45, 59, 43, 57, 57,  1, 58, 46, 43, 63,  1,\n",
      "        56, 43, 50, 47, 43, 60, 43, 42,  1, 59, 57,  1, 46, 59, 51, 39, 52, 43,\n",
      "        50, 63, 11,  0, 40, 59, 58,  1, 58, 46, 43, 63,  1, 58, 46, 47, 52, 49,\n",
      "         1, 61, 43,  1, 39, 56, 43,  1, 58, 53, 53,  1, 42, 43, 39, 56, 10,  1,\n",
      "        58, 46, 43,  1, 50, 43, 39, 52, 52, 43, 57, 57,  1, 58, 46, 39, 58,  0,\n",
      "        39, 44, 44, 50, 47, 41, 58, 57,  1, 59, 57,  6,  1, 58, 46, 43,  1, 53,\n",
      "        40, 48, 43, 41, 58,  1, 53, 44,  1, 53, 59, 56,  1, 51, 47, 57, 43, 56,\n",
      "        63,  6,  1, 47, 57,  1, 39, 57,  1, 39, 52,  0, 47, 52, 60, 43, 52, 58,\n",
      "        53, 56, 63,  1, 58, 53,  1, 54, 39, 56, 58, 47, 41, 59, 50, 39, 56, 47,\n",
      "        57, 43,  1, 58, 46, 43, 47, 56,  1, 39, 40, 59, 52, 42, 39, 52, 41, 43,\n",
      "        11,  1, 53, 59, 56,  0, 57, 59, 44, 44, 43, 56, 39, 52, 41, 43,  1, 47,\n",
      "        57,  1, 39,  1, 45, 39, 47, 52,  1, 58, 53,  1, 58, 46, 43, 51,  1, 24,\n",
      "        43, 58,  1, 59, 57,  1, 56, 43, 60, 43, 52, 45, 43,  1, 58, 46, 47, 57,\n",
      "         1, 61, 47, 58, 46,  0, 53, 59, 56,  1, 54, 47, 49, 43, 57,  6,  1, 43,\n",
      "        56, 43,  1, 61, 43,  1, 40, 43, 41, 53, 51, 43,  1, 56, 39, 49, 43, 57,\n",
      "        10,  1, 44, 53, 56,  1, 58, 46, 43,  1, 45, 53, 42, 57,  1, 49, 52, 53,\n",
      "        61,  1, 21,  0, 57, 54, 43, 39, 49,  1, 58, 46, 47, 57,  1, 47, 52,  1,\n",
      "        46, 59, 52, 45, 43, 56,  1, 44, 53, 56,  1, 40, 56, 43, 39, 42,  6,  1,\n",
      "        52, 53, 58,  1, 47, 52,  1, 58, 46, 47, 56, 57, 58,  1, 44, 53, 56,  1,\n",
      "        56, 43, 60, 43, 52, 45, 43,  8,  0,  0])\n"
     ]
    }
   ],
   "source": [
    "import torch\n",
    "data = torch.tensor(encode(text), dtype=torch.long)\n",
    "print(data.shape, data.dtype)\n",
    "print(data[:1000])"
   ]
  },
  {
   "cell_type": "markdown",
   "metadata": {},
   "source": [
    "# Training Data"
   ]
  },
  {
   "cell_type": "code",
   "execution_count": 47,
   "metadata": {},
   "outputs": [],
   "source": [
    "# Let's now split up the data into train and validation sets\n",
    "n = int(0.9*len(data)) # first 90% will be train, rest val\n",
    "train_data = data[:n]\n",
    "val_data = data[n:]"
   ]
  },
  {
   "cell_type": "markdown",
   "metadata": {},
   "source": [
    "在 LLM 训练的时候，一般不会将整个数据库都拿来训练 Transformer，而是会将数据“分块”，一块一块地进行训练"
   ]
  },
  {
   "cell_type": "code",
   "execution_count": 48,
   "metadata": {},
   "outputs": [
    {
     "data": {
      "text/plain": [
       "tensor([18, 47, 56, 57, 58,  1, 15, 47, 58])"
      ]
     },
     "execution_count": 48,
     "metadata": {},
     "output_type": "execute_result"
    }
   ],
   "source": [
    "block_size = 8\n",
    "train_data[:block_size+1]"
   ]
  },
  {
   "cell_type": "markdown",
   "metadata": {},
   "source": [
    "在训练的时候，我们希望 Transformer 能拥有 “预测下一个词“ 的能力。\n",
    "\n",
    "比如说上述的序列中：\n",
    "1. 给出一个 ”18“ 的词，Transformer 能够预测下一个词是 ”47“\n",
    "2. 给出一个序列为 ”18，47“，Transformer 能够预测下一个词是 ”56“\n",
    "依次类推。\n",
    "\n",
    "关联信息：[waytoagi.feishu.cn](https://waytoagi.feishu.cn/wiki/LnMOwmKIwihcRakRalcczNgrnjf)"
   ]
  },
  {
   "cell_type": "code",
   "execution_count": 49,
   "metadata": {},
   "outputs": [
    {
     "name": "stdout",
     "output_type": "stream",
     "text": [
      "when input is tensor([18]) the target: 47\n",
      "when input is tensor([18, 47]) the target: 56\n",
      "when input is tensor([18, 47, 56]) the target: 57\n",
      "when input is tensor([18, 47, 56, 57]) the target: 58\n",
      "when input is tensor([18, 47, 56, 57, 58]) the target: 1\n",
      "when input is tensor([18, 47, 56, 57, 58,  1]) the target: 15\n",
      "when input is tensor([18, 47, 56, 57, 58,  1, 15]) the target: 47\n",
      "when input is tensor([18, 47, 56, 57, 58,  1, 15, 47]) the target: 58\n"
     ]
    }
   ],
   "source": [
    "x = train_data[:block_size]\n",
    "y = train_data[1:block_size+1]\n",
    "for t in range(block_size):\n",
    "    context = x[:t+1]\n",
    "    target = y[t]\n",
    "    print(f\"when input is {context} the target: {target}\")"
   ]
  },
  {
   "cell_type": "markdown",
   "metadata": {},
   "source": [
    "上述的是一个 block 进行训练，真实场景下，我们通常是 “一个批次” 进行训练，即将 “多个 block 合为一个 batch” 进行训练。\n",
    "\n",
    "以下代码将引入 batch 的维度："
   ]
  },
  {
   "cell_type": "code",
   "execution_count": 50,
   "metadata": {},
   "outputs": [
    {
     "name": "stdout",
     "output_type": "stream",
     "text": [
      "inputs:\n",
      "torch.Size([4, 8])\n",
      "tensor([[57, 43, 50, 63,  1, 39, 58,  1],\n",
      "        [46,  1, 61, 39, 57, 46,  5, 42],\n",
      "        [58,  1, 54, 56, 43, 54, 39, 56],\n",
      "        [47, 52, 49,  6,  1, 53, 56,  1]])\n",
      "targets:\n",
      "torch.Size([4, 8])\n",
      "tensor([[43, 50, 63,  1, 39, 58,  1, 51],\n",
      "        [ 1, 61, 39, 57, 46,  5, 42,  1],\n",
      "        [ 1, 54, 56, 43, 54, 39, 56, 43],\n",
      "        [52, 49,  6,  1, 53, 56,  1, 40]])\n",
      "----------------\n",
      "when input is [57] the target: 43\n",
      "when input is [57, 43] the target: 50\n",
      "when input is [57, 43, 50] the target: 63\n",
      "when input is [57, 43, 50, 63] the target: 1\n",
      "when input is [57, 43, 50, 63, 1] the target: 39\n",
      "when input is [57, 43, 50, 63, 1, 39] the target: 58\n",
      "when input is [57, 43, 50, 63, 1, 39, 58] the target: 1\n",
      "when input is [57, 43, 50, 63, 1, 39, 58, 1] the target: 51\n",
      "when input is [46] the target: 1\n",
      "when input is [46, 1] the target: 61\n",
      "when input is [46, 1, 61] the target: 39\n",
      "when input is [46, 1, 61, 39] the target: 57\n",
      "when input is [46, 1, 61, 39, 57] the target: 46\n",
      "when input is [46, 1, 61, 39, 57, 46] the target: 5\n",
      "when input is [46, 1, 61, 39, 57, 46, 5] the target: 42\n",
      "when input is [46, 1, 61, 39, 57, 46, 5, 42] the target: 1\n",
      "when input is [58] the target: 1\n",
      "when input is [58, 1] the target: 54\n",
      "when input is [58, 1, 54] the target: 56\n",
      "when input is [58, 1, 54, 56] the target: 43\n",
      "when input is [58, 1, 54, 56, 43] the target: 54\n",
      "when input is [58, 1, 54, 56, 43, 54] the target: 39\n",
      "when input is [58, 1, 54, 56, 43, 54, 39] the target: 56\n",
      "when input is [58, 1, 54, 56, 43, 54, 39, 56] the target: 43\n",
      "when input is [47] the target: 52\n",
      "when input is [47, 52] the target: 49\n",
      "when input is [47, 52, 49] the target: 6\n",
      "when input is [47, 52, 49, 6] the target: 1\n",
      "when input is [47, 52, 49, 6, 1] the target: 53\n",
      "when input is [47, 52, 49, 6, 1, 53] the target: 56\n",
      "when input is [47, 52, 49, 6, 1, 53, 56] the target: 1\n",
      "when input is [47, 52, 49, 6, 1, 53, 56, 1] the target: 40\n"
     ]
    }
   ],
   "source": [
    "torch.manual_seed(114514) # :)\n",
    "\n",
    "batch_size = 4  # 定义有多少个batch并行训练     how many independent sequences will we process in parallel?\n",
    "block_size = 8  # 每一个block的最大长度        what is the maximum context length for predictions?\n",
    "\n",
    "def get_batch(split):\n",
    "    # generate a small batch of data of inputs x and targets y\n",
    "    data = train_data if split == 'train' else val_data\n",
    "\n",
    "    ix = torch.randint(len(data) - block_size, (batch_size,))   # batch_size 指定生成的长度\n",
    "    #print('ix: ', str(ix))\n",
    "\n",
    "    x = torch.stack([data[i:i+block_size] for i in ix])\n",
    "    y = torch.stack([data[i+1:i+block_size+1] for i in ix])\n",
    "    return x, y\n",
    "\n",
    "xb, yb = get_batch('train')\n",
    "print('inputs:')\n",
    "print(xb.shape)\n",
    "print(xb)\n",
    "print('targets:')\n",
    "print(yb.shape)\n",
    "print(yb)\n",
    "\n",
    "print('----------------')\n",
    "\n",
    "for b in range(batch_size): # batch dimension\n",
    "    for t in range(block_size): # time dimension\n",
    "        context = xb[b, :t+1]\n",
    "        target = yb[b,t]\n",
    "        print(f\"when input is {context.tolist()} the target: {target}\")"
   ]
  },
  {
   "cell_type": "markdown",
   "metadata": {},
   "source": [
    "我们输入给 Transformer 训练的是这样的数据，每一行都是一个训练样本：\n",
    "```py\n",
    "tensor([[43, 50, 63,  1, 39, 58,  1, 51],\n",
    "        [ 1, 61, 39, 57, 46,  5, 42,  1],\n",
    "        [ 1, 54, 56, 43, 54, 39, 56, 43],\n",
    "        [52, 49,  6,  1, 53, 56,  1, 40]])\n",
    "```\n"
   ]
  },
  {
   "cell_type": "code",
   "execution_count": 51,
   "metadata": {},
   "outputs": [
    {
     "name": "stdout",
     "output_type": "stream",
     "text": [
      "tensor([[57, 43, 50, 63,  1, 39, 58,  1],\n",
      "        [46,  1, 61, 39, 57, 46,  5, 42],\n",
      "        [58,  1, 54, 56, 43, 54, 39, 56],\n",
      "        [47, 52, 49,  6,  1, 53, 56,  1]])\n"
     ]
    }
   ],
   "source": [
    "print(xb) # our input to the transformer"
   ]
  },
  {
   "cell_type": "markdown",
   "metadata": {},
   "source": [
    "# Bigram Language Model: The Simplest LLM Model"
   ]
  },
  {
   "cell_type": "markdown",
   "metadata": {},
   "source": [
    "## 知识科普：交叉熵cross_entropy\n",
    "\n",
    "交叉熵（Cross Entropy）是一种在机器学习和信息论中常用的损失函数，特别是在分类问题中。它用于衡量模型预测的概率分布与真实的概率分布之间的差异。\n",
    "\n",
    "假设我们有一个真实的概率分布 P 和一个模型预测的概率分布 Q，那么 P 和 Q 之间的交叉熵定义为：`H(P, Q) = - Σ P(x) log(Q(x))`\n",
    "\n",
    "其中，Σ 表示对所有可能的事件 x 的求和。\n",
    "\n",
    "在分类问题中，真实的概率分布 P 通常是一个 one-hot 编码的向量，也就是说，对于正确的类别，其概率为 1，对于其他类别，其概率为 0。因此，交叉熵损失函数就变成了对于正确类别的预测概率的负对数似然。\n",
    "\n",
    "交叉熵损失函数有一个很好的性质，那就是当模型的预测概率分布接近真实的概率分布时，交叉熵的值会很小，反之则会很大。因此，通过最小化交叉熵损失函数，我们可以让模型的预测概率分布尽可能接近真实的概率分布。\n",
    "\n",
    "> 在以下神经网络中，我们使用 cross_entropy 作为计算 loss 值的方法"
   ]
  },
  {
   "cell_type": "code",
   "execution_count": 52,
   "metadata": {},
   "outputs": [
    {
     "name": "stdout",
     "output_type": "stream",
     "text": [
      "torch.Size([32, 65])\n",
      "tensor(4.5480, grad_fn=<NllLossBackward0>)\n",
      "\n",
      "tCK!?.QVDheWEVuNLsj.VwhEgFldy&FueufK.Sl?n3PtXmZvsckrytSgrhgUGl KLepkJ!xSBv,RbXm.g !'JSscvB&NwPDXPJaY\n"
     ]
    }
   ],
   "source": [
    "import torch\n",
    "import torch.nn as nn\n",
    "from torch.nn import functional as F\n",
    "torch.manual_seed(114514)\n",
    "\n",
    "class BigramLanguageModel(nn.Module):\n",
    "\n",
    "    def __init__(self, vocab_size):\n",
    "        super().__init__()\n",
    "        # each token directly reads off the logits for the next token from a lookup table\n",
    "        self.token_embedding_table = nn.Embedding(vocab_size, vocab_size)\n",
    "\n",
    "    def forward(self, idx, targets=None):\n",
    "\n",
    "        # idx and targets are both (B,T) tensor of integers\n",
    "        logits = self.token_embedding_table(idx) # (B,T,C)\n",
    "\n",
    "        if targets is None:\n",
    "            loss = None\n",
    "        else:\n",
    "            # https://pytorch.org/docs/stable/generated/torch.nn.CrossEntropyLoss.html\n",
    "            # 根据pytorch的文档，cross_entropy的入参(minibatch,C,d1,....dk)，第二个维度是C，所以需要对源 logits 进行改造\n",
    "            B, T, C = logits.shape\n",
    "            logits = logits.view(B*T, C)\n",
    "            targets = targets.view(B*T)\n",
    "            loss = F.cross_entropy(logits, targets)\n",
    "\n",
    "        return logits, loss\n",
    "\n",
    "    def generate(self, idx, max_new_tokens):\n",
    "        # idx is (B, T) array of indices in the current context\n",
    "        for _ in range(max_new_tokens):\n",
    "            # get the predictions\n",
    "            logits, loss = self(idx)\n",
    "            # focus only on the last time step\n",
    "            logits = logits[:, -1, :] # becomes (B, C)\n",
    "            # apply softmax to get probabilities\n",
    "            probs = F.softmax(logits, dim=-1) # (B, C)\n",
    "            # sample from the distribution\n",
    "            idx_next = torch.multinomial(probs, num_samples=1) # (B, 1)\n",
    "            # append sampled index to the running sequence\n",
    "            idx = torch.cat((idx, idx_next), dim=1) # (B, T+1)\n",
    "        return idx\n",
    "\n",
    "m = BigramLanguageModel(vocab_size)\n",
    "logits, loss = m(xb, yb)\n",
    "print(logits.shape)\n",
    "print(loss)\n",
    "\n",
    "print(decode(m.generate(idx = torch.zeros((1, 1), dtype=torch.long), max_new_tokens=100)[0].tolist()))\n"
   ]
  },
  {
   "cell_type": "markdown",
   "metadata": {},
   "source": [
    "在没有训练的时候，输出的内容都是乱码。\n",
    "\n",
    "generate 第一个入参是 ‘zero’，在原始文本中表示”空格“，第二个 max_new_tokens 则是让模型推测文本的最大长度\n",
    "\n",
    "接下来我们将开始做一些简答的训练："
   ]
  },
  {
   "cell_type": "markdown",
   "metadata": {},
   "source": [
    "# Traning the Transformer Model"
   ]
  },
  {
   "cell_type": "markdown",
   "metadata": {},
   "source": [
    "先创建一个 PyTorch 的优化器，用于更新模型的参数以最小化损失函数。\n",
    "\n",
    "优化器的类型是 AdamW，这是一种常用的优化算法，它结合了 Adam（自适应矩估计）算法的优点和权重衰减（也称为 L2 正则化）的优点。AdamW 优化器在训练深度学习模型时，特别是在处理大规模数据集和复杂模型时，通常可以得到更好的结果。\n",
    "\n",
    "m.parameters() 是一个生成器，它返回模型 m 的所有可训练参数。这些参数是需要优化的对象。\n",
    "\n",
    "lr=1e-3 设置了学习率为 0.001。学习率是一个超参数，它决定了模型参数在每次更新时的移动步长。如果学习率太大，可能会导致模型在训练过程中震荡和不稳定；如果学习率太小，可能会导致模型训练速度过慢，甚至可能无法收敛。选择合适的学习率通常需要一些实验和经验。"
   ]
  },
  {
   "cell_type": "code",
   "execution_count": 53,
   "metadata": {},
   "outputs": [],
   "source": [
    "# create a PyTorch optimizer\n",
    "optimizer = torch.optim.AdamW(m.parameters(), lr=1e-3)"
   ]
  },
  {
   "cell_type": "code",
   "execution_count": 60,
   "metadata": {},
   "outputs": [
    {
     "name": "stdout",
     "output_type": "stream",
     "text": [
      "2.4437882900238037\n"
     ]
    }
   ],
   "source": [
    "batch_size = 32\n",
    "for steps in range(10000): # increase number of steps for good results...\n",
    "\n",
    "    # sample a batch of data\n",
    "    xb, yb = get_batch('train')\n",
    "\n",
    "    # evaluate the loss\n",
    "    logits, loss = m(xb, yb)\n",
    "    optimizer.zero_grad(set_to_none=True)\n",
    "    loss.backward()\n",
    "    optimizer.step()\n",
    "\n",
    "print(loss.item())\n"
   ]
  },
  {
   "cell_type": "code",
   "execution_count": 61,
   "metadata": {},
   "outputs": [
    {
     "name": "stdout",
     "output_type": "stream",
     "text": [
      "\n",
      "By hans s feaist whay why ooowoures IO:\n",
      "Ance!\n",
      "Whe atomagh by sl is\n",
      "Nuneand to ndreat haurothan hair. sifen th hite sol ce my w-luseamenitomeyepr rishak he por ir?\n",
      "ETheph or fut tory d sof t tha tand.\n",
      "ave isathedo ty tot eangod, bomman gry lo id\n",
      "Andsuthy hinlst betheve onor quigid, inoun haral, at sw'l itim ld, es ne nn y Me I ie t\n",
      "Y:\n",
      "RORO, my b, far ia tss geveclin!\n",
      "An t d me woutl tl ow, CHennt aso prybe;\n",
      "CUSobin faye, tweryoursouge nin:\n",
      "Wigmears d m keand, t\n",
      "EShak,\n",
      "Th d t t dizefunoutyo we sh \n"
     ]
    }
   ],
   "source": [
    "print(decode(m.generate(idx = torch.zeros((1, 1), dtype=torch.long), max_new_tokens=500)[0].tolist()))"
   ]
  },
  {
   "cell_type": "markdown",
   "metadata": {},
   "source": [
    "在上述的训练方式中，每一个 token 字符之间都没有相互关联，他们不会 'talking to each other'。\n",
    "\n",
    "接下来，我们将尝试让 token “产生关联”，让训练更有效。\n",
    "\n",
    "> 注意：bigram 模型的代码都整合为一个 bigram.py 文件了"
   ]
  }
 ],
 "metadata": {
  "kernelspec": {
   "display_name": "rag",
   "language": "python",
   "name": "python3"
  },
  "language_info": {
   "codemirror_mode": {
    "name": "ipython",
    "version": 3
   },
   "file_extension": ".py",
   "mimetype": "text/x-python",
   "name": "python",
   "nbconvert_exporter": "python",
   "pygments_lexer": "ipython3",
   "version": "3.10.12"
  }
 },
 "nbformat": 4,
 "nbformat_minor": 2
}
